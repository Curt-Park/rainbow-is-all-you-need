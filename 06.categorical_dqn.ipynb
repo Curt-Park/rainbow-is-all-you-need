{
 "cells": [
  {
   "cell_type": "markdown",
   "metadata": {},
   "source": [
    "## Configurations for Colab"
   ]
  },
  {
   "cell_type": "code",
   "execution_count": 1,
   "metadata": {},
   "outputs": [],
   "source": [
    "import sys\n",
    "IN_COLAB = \"google.colab\" in sys.modules\n",
    "\n",
    "if IN_COLAB:\n",
    "    !apt install python-opengl\n",
    "    !apt install ffmpeg\n",
    "    !apt install xvfb\n",
    "    !pip install PyVirtualDisplay==3.0\n",
    "    !pip install gymnasium==0.28.1\n",
    "    from pyvirtualdisplay import Display\n",
    "    \n",
    "    # Start virtual display\n",
    "    dis = Display(visible=0, size=(400, 400))\n",
    "    dis.start()"
   ]
  },
  {
   "cell_type": "markdown",
   "metadata": {},
   "source": [
    "# 06. Categorical DQN\n",
    "\n",
    "[M. G. Bellemare et al., \"A Distributional Perspective on Reinforcement Learning.\" arXiv preprint arXiv:1707.06887, 2017.](https://arxiv.org/pdf/1707.06887.pdf)\n",
    "\n",
    "The authors argued the importance of learning the distribution of returns instead of the expected return, and they proposed to model such distributions with probability masses placed on a discrete support $z$, where $z$ is a vector with $N_{atoms} \\in \\mathbb{N}^+$ atoms, defined by $z_i = V_{min} + (i-1) \\frac{V_{max} - V_{min}}{N-1}$ for $i \\in \\{1, ..., N_{atoms}\\}$.\n",
    "\n",
    "The key insight is that return distributions satisfy a variant of Bellman’s equation. For a given state $S_t$ and action $A_t$, the distribution of the returns under the optimal policy $\\pi^{*}$ should match a target distribution defined by taking the distribution for the next state $S_{t+1}$ and action $a^{*}_{t+1} = \\pi^{*}(S_{t+1})$, contracting\n",
    "it towards zero according to the discount, and shifting it by the reward (or distribution of rewards, in the stochastic case). A distributional variant of Q-learning is then derived by first constructing a new support for the target distribution, and then minimizing the Kullbeck-Leibler divergence between the distribution $d_t$ and the target distribution\n",
    "\n",
    "$$\n",
    "d_t' = (R_{t+1} + \\gamma_{t+1} z, p_\\hat{{\\theta}} (S_{t+1}, \\hat{a}^{*}_{t+1})),\\\\\n",
    "D_{KL} (\\phi_z d_t' \\| d_t).\n",
    "$$\n",
    "\n",
    "Here $\\phi_z$ is a L2-projection of the target distribution onto the fixed support $z$, and $\\hat{a}^*_{t+1} = \\arg\\max_{a} q_{\\hat{\\theta}} (S_{t+1}, a)$ is the greedy action with respect to the mean action values $q_{\\hat{\\theta}} (S_{t+1}, a) = z^{T}p_{\\theta}(S_{t+1}, a)$ in state $S_{t+1}$."
   ]
  },
  {
   "cell_type": "code",
   "execution_count": 2,
   "metadata": {},
   "outputs": [
    {
     "name": "stderr",
     "output_type": "stream",
     "text": [
      "/Users/jinwoo.park/miniforge3/envs/rainbow-is-all-you-need/lib/python3.8/site-packages/tqdm/auto.py:21: TqdmWarning: IProgress not found. Please update jupyter and ipywidgets. See https://ipywidgets.readthedocs.io/en/stable/user_install.html\n",
      "  from .autonotebook import tqdm as notebook_tqdm\n"
     ]
    }
   ],
   "source": [
    "import os\n",
    "from typing import Dict, List, Tuple\n",
    "\n",
    "import gymnasium as gym\n",
    "import matplotlib.pyplot as plt\n",
    "import numpy as np\n",
    "import torch\n",
    "import torch.nn as nn\n",
    "import torch.nn.functional as F\n",
    "import torch.optim as optim\n",
    "from IPython.display import clear_output"
   ]
  },
  {
   "cell_type": "markdown",
   "metadata": {},
   "source": [
    "## Replay buffer\n",
    "\n",
    "Please see *01.dqn.ipynb* for detailed description."
   ]
  },
  {
   "cell_type": "code",
   "execution_count": 3,
   "metadata": {},
   "outputs": [],
   "source": [
    "class ReplayBuffer:\n",
    "    \"\"\"A simple numpy replay buffer.\"\"\"\n",
    "\n",
    "    def __init__(self, obs_dim: int, size: int, batch_size: int = 32):\n",
    "        self.obs_buf = np.zeros([size, obs_dim], dtype=np.float32)\n",
    "        self.next_obs_buf = np.zeros([size, obs_dim], dtype=np.float32)\n",
    "        self.acts_buf = np.zeros([size], dtype=np.float32)\n",
    "        self.rews_buf = np.zeros([size], dtype=np.float32)\n",
    "        self.done_buf = np.zeros(size, dtype=np.float32)\n",
    "        self.max_size, self.batch_size = size, batch_size\n",
    "        self.ptr, self.size, = 0, 0\n",
    "\n",
    "    def store(\n",
    "        self, \n",
    "        obs: np.ndarray, \n",
    "        act: np.ndarray, \n",
    "        rew: float, \n",
    "        next_obs: np.ndarray, \n",
    "        done: bool,\n",
    "    ):\n",
    "        self.obs_buf[self.ptr] = obs\n",
    "        self.next_obs_buf[self.ptr] = next_obs\n",
    "        self.acts_buf[self.ptr] = act\n",
    "        self.rews_buf[self.ptr] = rew\n",
    "        self.done_buf[self.ptr] = done\n",
    "        self.ptr = (self.ptr + 1) % self.max_size\n",
    "        self.size = min(self.size + 1, self.max_size)\n",
    "\n",
    "    def sample_batch(self) -> Dict[str, np.ndarray]:\n",
    "        idxs = np.random.choice(self.size, size=self.batch_size, replace=False)\n",
    "        return dict(obs=self.obs_buf[idxs],\n",
    "                    next_obs=self.next_obs_buf[idxs],\n",
    "                    acts=self.acts_buf[idxs],\n",
    "                    rews=self.rews_buf[idxs],\n",
    "                    done=self.done_buf[idxs])\n",
    "\n",
    "    def __len__(self) -> int:\n",
    "        return self.size"
   ]
  },
  {
   "cell_type": "markdown",
   "metadata": {},
   "source": [
    "## Network\n",
    "\n",
    "The parametrized distribution can be represented by a neural network, as in DQN, but with atom_size x out_dim outputs. A softmax is applied independently for each action dimension of the output to ensure that the distribution for each action is appropriately normalized.\n",
    "\n",
    "To estimate q-values, we use inner product of each action's softmax distribution and support which is the set of atoms $\\{z_i = V_{min} + i\\Delta z: 0 \\le i < N\\}, \\Delta z = \\frac{V_{max} - V_{min}}{N-1}$.\n",
    "\n",
    "$$\n",
    "Q(s_t, a_t) = \\sum_i z_i p_i(s_t, a_t), \\\\\n",
    "\\text{where } p_i \\text{ is the probability of } z_i \\text{ (the output of softmax)}.\n",
    "$$"
   ]
  },
  {
   "cell_type": "code",
   "execution_count": 4,
   "metadata": {},
   "outputs": [],
   "source": [
    "class Network(nn.Module):\n",
    "    def __init__(\n",
    "        self, \n",
    "        in_dim: int, \n",
    "        out_dim: int, \n",
    "        atom_size: int, \n",
    "        support: torch.Tensor\n",
    "    ):\n",
    "        \"\"\"Initialization.\"\"\"\n",
    "        super(Network, self).__init__()\n",
    "\n",
    "        self.support = support\n",
    "        self.out_dim = out_dim\n",
    "        self.atom_size = atom_size\n",
    "        \n",
    "        self.layers = nn.Sequential(\n",
    "            nn.Linear(in_dim, 128), \n",
    "            nn.ReLU(),\n",
    "            nn.Linear(128, 128), \n",
    "            nn.ReLU(), \n",
    "            nn.Linear(128, out_dim * atom_size)\n",
    "        )\n",
    "\n",
    "    def forward(self, x: torch.Tensor) -> torch.Tensor:\n",
    "        \"\"\"Forward method implementation.\"\"\"\n",
    "        dist = self.dist(x)\n",
    "        q = torch.sum(dist * self.support, dim=2)\n",
    "        \n",
    "        return q\n",
    "    \n",
    "    def dist(self, x: torch.Tensor) -> torch.Tensor:\n",
    "        \"\"\"Get distribution for atoms.\"\"\"\n",
    "        q_atoms = self.layers(x).view(-1, self.out_dim, self.atom_size)\n",
    "        dist = F.softmax(q_atoms, dim=-1)\n",
    "        dist = dist.clamp(min=1e-3)  # for avoiding nans\n",
    "        \n",
    "        return dist"
   ]
  },
  {
   "cell_type": "markdown",
   "metadata": {},
   "source": [
    "## Categorical DQN Agent\n",
    "\n",
    "\n",
    "Here is a summary of DQNAgent class.\n",
    "\n",
    "| Method           | Note                                                 |\n",
    "| ---              | ---                                                  |\n",
    "|select_action     | select an action from the input state.               |\n",
    "|step              | take an action and return the response of the env.   |\n",
    "|compute_dqn_loss  | return dqn loss.                                     |\n",
    "|update_model      | update the model by gradient descent.                |\n",
    "|target_hard_update| hard update from the local model to the target model.|\n",
    "|train             | train the agent during num_frames.                   |\n",
    "|test              | test the agent (1 episode).                          |\n",
    "|plot              | plot the training progresses.                        |\n",
    "\n",
    "All differences from pure DQN are noted with comments *Categorical DQN*."
   ]
  },
  {
   "cell_type": "code",
   "execution_count": 5,
   "metadata": {},
   "outputs": [],
   "source": [
    "class DQNAgent:\n",
    "    \"\"\"DQN Agent interacting with environment.\n",
    "    \n",
    "    Attribute:\n",
    "        env (gym.Env): openAI Gym environment\n",
    "        memory (ReplayBuffer): replay memory to store transitions\n",
    "        batch_size (int): batch size for sampling\n",
    "        epsilon (float): parameter for epsilon greedy policy\n",
    "        epsilon_decay (float): step size to decrease epsilon\n",
    "        max_epsilon (float): max value of epsilon\n",
    "        min_epsilon (float): min value of epsilon\n",
    "        target_update (int): period for target model's hard update\n",
    "        gamma (float): discount factor\n",
    "        dqn (Network): model to train and select actions\n",
    "        dqn_target (Network): target model to update\n",
    "        optimizer (torch.optim): optimizer for training dqn\n",
    "        transition (list): transition information including\n",
    "                           state, action, reward, next_state, done\n",
    "        v_min (float): min value of support\n",
    "        v_max (float): max value of support\n",
    "        atom_size (int): the unit number of support\n",
    "        support (torch.Tensor): support for categorical dqn\n",
    "    \"\"\"\n",
    "\n",
    "    def __init__(\n",
    "        self, \n",
    "        env: gym.Env,\n",
    "        memory_size: int,\n",
    "        batch_size: int,\n",
    "        target_update: int,\n",
    "        epsilon_decay: float,\n",
    "        seed: int,\n",
    "        max_epsilon: float = 1.0,\n",
    "        min_epsilon: float = 0.1,\n",
    "        gamma: float = 0.99,\n",
    "        # Categorical DQN parameters\n",
    "        v_min: float = 0.0,\n",
    "        v_max: float = 200.0,\n",
    "        atom_size: int = 51,\n",
    "    ):\n",
    "        \"\"\"Initialization.\n",
    "        \n",
    "        Args:\n",
    "            env (gym.Env): openAI Gym environment\n",
    "            memory_size (int): length of memory\n",
    "            batch_size (int): batch size for sampling\n",
    "            target_update (int): period for target model's hard update\n",
    "            epsilon_decay (float): step size to decrease epsilon\n",
    "            lr (float): learning rate\n",
    "            max_epsilon (float): max value of epsilon\n",
    "            min_epsilon (float): min value of epsilon\n",
    "            gamma (float): discount factor\n",
    "            v_min (float): min value of support\n",
    "            v_max (float): max value of support\n",
    "            atom_size (int): the unit number of support\n",
    "        \"\"\"\n",
    "        obs_dim = env.observation_space.shape[0]\n",
    "        action_dim = env.action_space.n\n",
    "        \n",
    "        self.env = env\n",
    "        self.memory = ReplayBuffer(obs_dim, memory_size, batch_size)\n",
    "        self.batch_size = batch_size\n",
    "        self.epsilon = max_epsilon\n",
    "        self.epsilon_decay = epsilon_decay\n",
    "        self.seed = seed\n",
    "        self.max_epsilon = max_epsilon\n",
    "        self.min_epsilon = min_epsilon\n",
    "        self.target_update = target_update\n",
    "        self.gamma = gamma\n",
    "        \n",
    "        # device: cpu / gpu\n",
    "        self.device = torch.device(\"cuda\" if torch.cuda.is_available() else \"cpu\")\n",
    "        print(self.device)\n",
    "        \n",
    "        # Categorical DQN parameters\n",
    "        self.v_min = v_min\n",
    "        self.v_max = v_max\n",
    "        self.atom_size = atom_size\n",
    "        self.support = torch.linspace(\n",
    "            self.v_min, self.v_max, self.atom_size\n",
    "        ).to(self.device)\n",
    "\n",
    "        # networks: dqn, dqn_target\n",
    "        self.dqn = Network(\n",
    "            obs_dim, action_dim, atom_size, self.support\n",
    "        ).to(self.device)\n",
    "        self.dqn_target = Network(\n",
    "            obs_dim, action_dim, atom_size, self.support\n",
    "        ).to(self.device)\n",
    "        self.dqn_target.load_state_dict(self.dqn.state_dict())\n",
    "        self.dqn_target.eval()\n",
    "        \n",
    "        # optimizer\n",
    "        self.optimizer = optim.Adam(self.dqn.parameters())\n",
    "\n",
    "        # transition to store in memory\n",
    "        self.transition = list()\n",
    "        \n",
    "        # mode: train / test\n",
    "        self.is_test = False\n",
    "\n",
    "    def select_action(self, state: np.ndarray) -> np.ndarray:\n",
    "        \"\"\"Select an action from the input state.\"\"\"\n",
    "        # epsilon greedy policy\n",
    "        if self.epsilon > np.random.random():\n",
    "            selected_action = self.env.action_space.sample()\n",
    "        else:\n",
    "            selected_action = self.dqn(\n",
    "                torch.FloatTensor(state).to(self.device),\n",
    "            ).argmax()\n",
    "            selected_action = selected_action.detach().cpu().numpy()\n",
    "        \n",
    "        if not self.is_test:\n",
    "            self.transition = [state, selected_action]\n",
    "        \n",
    "        return selected_action\n",
    "\n",
    "    def step(self, action: np.ndarray) -> Tuple[np.ndarray, np.float64, bool]:\n",
    "        \"\"\"Take an action and return the response of the env.\"\"\"\n",
    "        next_state, reward, terminated, truncated, _ = self.env.step(action)\n",
    "        done = terminated or truncated\n",
    "        \n",
    "        if not self.is_test:\n",
    "            self.transition += [reward, next_state, done]\n",
    "            self.memory.store(*self.transition)\n",
    "    \n",
    "        return next_state, reward, done\n",
    "\n",
    "    def update_model(self) -> torch.Tensor:\n",
    "        \"\"\"Update the model by gradient descent.\"\"\"\n",
    "        samples = self.memory.sample_batch()\n",
    "\n",
    "        loss = self._compute_dqn_loss(samples)\n",
    "\n",
    "        self.optimizer.zero_grad()\n",
    "        loss.backward()\n",
    "        self.optimizer.step()\n",
    "\n",
    "        return loss.item()\n",
    "        \n",
    "    def train(self, num_frames: int, plotting_interval: int = 200):\n",
    "        \"\"\"Train the agent.\"\"\"\n",
    "        self.is_test = False\n",
    "        \n",
    "        state, _ = self.env.reset(seed=self.seed)\n",
    "        update_cnt = 0\n",
    "        epsilons = []\n",
    "        losses = []\n",
    "        scores = []\n",
    "        score = 0\n",
    "\n",
    "        for frame_idx in range(1, num_frames + 1):\n",
    "            action = self.select_action(state)\n",
    "            next_state, reward, done = self.step(action)\n",
    "\n",
    "            state = next_state\n",
    "            score += reward\n",
    "\n",
    "            # if episode ends\n",
    "            if done:\n",
    "                state, _ = self.env.reset(seed=self.seed)\n",
    "                scores.append(score)\n",
    "                score = 0\n",
    "\n",
    "            # if training is ready\n",
    "            if len(self.memory) >= self.batch_size:\n",
    "                loss = self.update_model()\n",
    "                losses.append(loss)\n",
    "                update_cnt += 1\n",
    "                \n",
    "                # linearly decrease epsilon\n",
    "                self.epsilon = max(\n",
    "                    self.min_epsilon, self.epsilon - (\n",
    "                        self.max_epsilon - self.min_epsilon\n",
    "                    ) * self.epsilon_decay\n",
    "                )\n",
    "                epsilons.append(self.epsilon)\n",
    "                \n",
    "                # if hard update is needed\n",
    "                if update_cnt % self.target_update == 0:\n",
    "                    self._target_hard_update()\n",
    "\n",
    "            # plotting\n",
    "            if frame_idx % plotting_interval == 0:\n",
    "                self._plot(frame_idx, scores, losses, epsilons)\n",
    "                \n",
    "        self.env.close()\n",
    "                \n",
    "    def test(self, video_folder: str) -> None:\n",
    "        \"\"\"Test the agent.\"\"\"\n",
    "        self.is_test = True\n",
    "        \n",
    "        # for recording a video\n",
    "        naive_env = self.env\n",
    "        self.env = gym.wrappers.RecordVideo(self.env, video_folder=video_folder)\n",
    "        \n",
    "        state, _ = self.env.reset(seed=self.seed)\n",
    "        done = False\n",
    "        score = 0\n",
    "        \n",
    "        while not done:\n",
    "            action = self.select_action(state)\n",
    "            next_state, reward, done = self.step(action)\n",
    "\n",
    "            state = next_state\n",
    "            score += reward\n",
    "        \n",
    "        print(\"score: \", score)\n",
    "        self.env.close()\n",
    "        \n",
    "        # reset\n",
    "        self.env = naive_env\n",
    "\n",
    "\n",
    "    def _compute_dqn_loss(self, samples: Dict[str, np.ndarray]) -> torch.Tensor:\n",
    "        \"\"\"Return categorical dqn loss.\"\"\"\n",
    "        device = self.device  # for shortening the following lines\n",
    "        state = torch.FloatTensor(samples[\"obs\"]).to(device)\n",
    "        next_state = torch.FloatTensor(samples[\"next_obs\"]).to(device)\n",
    "        action = torch.LongTensor(samples[\"acts\"]).to(device)\n",
    "        reward = torch.FloatTensor(samples[\"rews\"].reshape(-1, 1)).to(device)\n",
    "        done = torch.FloatTensor(samples[\"done\"].reshape(-1, 1)).to(device)\n",
    "        \n",
    "        # Categorical DQN algorithm\n",
    "        delta_z = float(self.v_max - self.v_min) / (self.atom_size - 1)\n",
    "\n",
    "        with torch.no_grad():\n",
    "            next_action = self.dqn_target(next_state).argmax(1)\n",
    "            next_dist = self.dqn_target.dist(next_state)\n",
    "            next_dist = next_dist[range(self.batch_size), next_action]\n",
    "\n",
    "            t_z = reward + (1 - done) * self.gamma * self.support\n",
    "            t_z = t_z.clamp(min=self.v_min, max=self.v_max)\n",
    "            b = (t_z - self.v_min) / delta_z\n",
    "            l = b.floor().long()\n",
    "            u = b.floor().long() + 1\n",
    "\n",
    "            offset = (\n",
    "                torch.linspace(\n",
    "                    0, (self.batch_size - 1) * self.atom_size, self.batch_size\n",
    "                ).long()\n",
    "                .unsqueeze(1)\n",
    "                .expand(self.batch_size, self.atom_size)\n",
    "                .to(self.device)\n",
    "            )\n",
    "\n",
    "            proj_dist = torch.zeros(next_dist.size(), device=self.device)\n",
    "            proj_dist.view(-1).index_add_(\n",
    "                0, (l + offset).view(-1), (next_dist * (u.float() - b)).view(-1)\n",
    "            )\n",
    "            proj_dist.view(-1).index_add_(\n",
    "                0, (u.clamp(max=self.atom_size - 1) + offset).view(-1), (next_dist * (b - l.float())).view(-1)\n",
    "            )\n",
    "\n",
    "        dist = self.dqn.dist(state)\n",
    "        log_p = torch.log(dist[range(self.batch_size), action])\n",
    "\n",
    "        loss = -(proj_dist * log_p).sum(1).mean()\n",
    "\n",
    "        return loss\n",
    "\n",
    "    def _target_hard_update(self):\n",
    "        \"\"\"Hard update: target <- local.\"\"\"\n",
    "        self.dqn_target.load_state_dict(self.dqn.state_dict())\n",
    "                \n",
    "    def _plot(\n",
    "        self, \n",
    "        frame_idx: int, \n",
    "        scores: List[float], \n",
    "        losses: List[float], \n",
    "        epsilons: List[float],\n",
    "    ):\n",
    "        \"\"\"Plot the training progresses.\"\"\"\n",
    "        clear_output(True)\n",
    "        plt.figure(figsize=(20, 5))\n",
    "        plt.subplot(131)\n",
    "        plt.title('frame %s. score: %s' % (frame_idx, np.mean(scores[-10:])))\n",
    "        plt.plot(scores)\n",
    "        plt.subplot(132)\n",
    "        plt.title('loss')\n",
    "        plt.plot(losses)\n",
    "        plt.subplot(133)\n",
    "        plt.title('epsilons')\n",
    "        plt.plot(epsilons)\n",
    "        plt.show()"
   ]
  },
  {
   "cell_type": "markdown",
   "metadata": {},
   "source": [
    "## Environment\n",
    "\n",
    "You can see the [code](https://github.com/Farama-Foundation/Gymnasium/blob/main/gymnasium/envs/classic_control/cartpole.py) and [configurations](https://github.com/Farama-Foundation/Gymnasium/blob/main/gymnasium/envs/classic_control/cartpole.py#L91) of CartPole-v1 from Farama Gymnasium's repository."
   ]
  },
  {
   "cell_type": "code",
   "execution_count": 6,
   "metadata": {},
   "outputs": [],
   "source": [
    "# environment\n",
    "env = gym.make(\"CartPole-v1\", max_episode_steps=200, render_mode=\"rgb_array\")"
   ]
  },
  {
   "cell_type": "markdown",
   "metadata": {},
   "source": [
    "## Set random seed"
   ]
  },
  {
   "cell_type": "code",
   "execution_count": 7,
   "metadata": {},
   "outputs": [],
   "source": [
    "seed = 777\n",
    "\n",
    "def seed_torch(seed):\n",
    "    torch.manual_seed(seed)\n",
    "    if torch.backends.cudnn.enabled:\n",
    "        torch.cuda.manual_seed(seed)\n",
    "        torch.backends.cudnn.benchmark = False\n",
    "        torch.backends.cudnn.deterministic = True\n",
    "\n",
    "np.random.seed(seed)\n",
    "seed_torch(seed)"
   ]
  },
  {
   "cell_type": "markdown",
   "metadata": {},
   "source": [
    "## Initialize"
   ]
  },
  {
   "cell_type": "code",
   "execution_count": 8,
   "metadata": {},
   "outputs": [
    {
     "name": "stdout",
     "output_type": "stream",
     "text": [
      "cpu\n"
     ]
    }
   ],
   "source": [
    "# parameters\n",
    "num_frames = 10000\n",
    "memory_size = 2000\n",
    "batch_size = 32\n",
    "target_update = 150\n",
    "epsilon_decay = 1 / 2000\n",
    "\n",
    "# train\n",
    "agent = DQNAgent(env, memory_size, batch_size, target_update, epsilon_decay, seed)"
   ]
  },
  {
   "cell_type": "markdown",
   "metadata": {},
   "source": [
    "## Train"
   ]
  },
  {
   "cell_type": "code",
   "execution_count": 9,
   "metadata": {},
   "outputs": [
    {
     "data": {
      "image/png": "[encoded data removed]",
      "text/plain": [
       "<Figure size 1440x360 with 3 Axes>"
      ]
     },
     "metadata": {
      "needs_background": "light"
     },
     "output_type": "display_data"
    }
   ],
   "source": [
    "agent.train(num_frames)"
   ]
  },
  {
   "cell_type": "markdown",
   "metadata": {},
   "source": [
    "## Test\n",
    "\n",
    "Run the trained agent (1 episode)."
   ]
  },
  {
   "cell_type": "code",
   "execution_count": 10,
   "metadata": {},
   "outputs": [
    {
     "name": "stdout",
     "output_type": "stream",
     "text": [
      "Moviepy - Building video /Users/jinwoo.park/Repositories/rainbow-is-all-you-need/videos/categorical_dqn/rl-video-episode-0.mp4.\n",
      "Moviepy - Writing video /Users/jinwoo.park/Repositories/rainbow-is-all-you-need/videos/categorical_dqn/rl-video-episode-0.mp4\n",
      "\n"
     ]
    },
    {
     "name": "stderr",
     "output_type": "stream",
     "text": [
      "                                                                                                               "
     ]
    },
    {
     "name": "stdout",
     "output_type": "stream",
     "text": [
      "Moviepy - Done !\n",
      "Moviepy - video ready /Users/jinwoo.park/Repositories/rainbow-is-all-you-need/videos/categorical_dqn/rl-video-episode-0.mp4\n",
      "score:  200.0\n"
     ]
    },
    {
     "name": "stderr",
     "output_type": "stream",
     "text": [
      "\r"
     ]
    }
   ],
   "source": [
    "video_folder=\"videos/categorical_dqn\"\n",
    "agent.test(video_folder=video_folder)"
   ]
  },
  {
   "cell_type": "markdown",
   "metadata": {},
   "source": [
    "## Render"
   ]
  },
  {
   "cell_type": "code",
   "execution_count": 11,
   "metadata": {},
   "outputs": [
    {
     "data": {
      "text/html": [
       "\n",
       "        <video width=\"320\" height=\"240\" alt=\"test\" controls>\n",
       "        <source src=\"data:video/mp4;base64,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\" type=\"video/mp4\"/>\n",
       "        </video>\n",
       "        "
      ],
      "text/plain": [
       "<IPython.core.display.HTML object>"
      ]
     },
     "metadata": {},
     "output_type": "display_data"
    },
    {
     "name": "stdout",
     "output_type": "stream",
     "text": [
      "Played: videos/categorical_dqn/rl-video-episode-0.mp4\n"
     ]
    }
   ],
   "source": [
    "import base64\n",
    "import glob\n",
    "import io\n",
    "import os\n",
    "\n",
    "from IPython.display import HTML, display\n",
    "\n",
    "\n",
    "def ipython_show_video(path: str) -> None:\n",
    "    \"\"\"Show a video at `path` within IPython Notebook.\"\"\"\n",
    "    if not os.path.isfile(path):\n",
    "        raise NameError(\"Cannot access: {}\".format(path))\n",
    "\n",
    "    video = io.open(path, \"r+b\").read()\n",
    "    encoded = base64.b64encode(video)\n",
    "\n",
    "    display(HTML(\n",
    "        data=\"\"\"\n",
    "        <video width=\"320\" height=\"240\" alt=\"test\" controls>\n",
    "        <source src=\"data:video/mp4;base64,{0}\" type=\"video/mp4\"/>\n",
    "        </video>\n",
    "        \"\"\".format(encoded.decode(\"ascii\"))\n",
    "    ))\n",
    "\n",
    "\n",
    "def show_latest_video(video_folder: str) -> str:\n",
    "    \"\"\"Show the most recently recorded video from video folder.\"\"\"\n",
    "    list_of_files = glob.glob(os.path.join(video_folder, \"*.mp4\"))\n",
    "    latest_file = max(list_of_files, key=os.path.getctime)\n",
    "    ipython_show_video(latest_file)\n",
    "    return latest_file\n",
    "\n",
    "\n",
    "latest_file = show_latest_video(video_folder=video_folder)\n",
    "print(\"Played:\", latest_file)"
   ]
  }
 ],
 "metadata": {
  "kernelspec": {
   "display_name": "rainbow-is-all-you-need",
   "language": "python",
   "name": "rainbow-is-all-you-need"
  },
  "language_info": {
   "codemirror_mode": {
    "name": "ipython",
    "version": 3
   },
   "file_extension": ".py",
   "mimetype": "text/x-python",
   "name": "python",
   "nbconvert_exporter": "python",
   "pygments_lexer": "ipython3",
   "version": "3.8.12"
  }
 },
 "nbformat": 4,
 "nbformat_minor": 4
}
